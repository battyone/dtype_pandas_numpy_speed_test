{
 "cells": [
  {
   "cell_type": "code",
   "execution_count": 1,
   "metadata": {},
   "outputs": [
    {
     "data": {
      "text/plain": [
       "'memory profile enabled'"
      ]
     },
     "execution_count": 1,
     "metadata": {},
     "output_type": "execute_result"
    },
    {
     "name": "stdout",
     "output_type": "stream",
     "text": [
      "In [1] used 0.0000 MiB RAM in 0.10s, peaked 0.00 MiB above current, total RAM usage 99.60 MiB\n"
     ]
    }
   ],
   "source": [
    "import time\n",
    "import pandas as pd\n",
    "import numpy as np\n",
    "import matplotlib.pyplot as plt\n",
    "import ipython_memory_usage\n",
    "%ipython_memory_usage_start"
   ]
  },
  {
   "cell_type": "code",
   "execution_count": 2,
   "metadata": {},
   "outputs": [
    {
     "name": "stdout",
     "output_type": "stream",
     "text": [
      "2020-06-12T19:17:47+01:00\n",
      "\n",
      "CPython 3.8.3\n",
      "IPython 7.15.0\n",
      "\n",
      "pandas 1.0.4\n",
      "numpy 1.18.5\n",
      "matplotlib 3.2.1\n",
      "\n",
      "compiler   : GCC 7.5.0\n",
      "system     : Linux\n",
      "release    : 5.6.7-050607-generic\n",
      "machine    : x86_64\n",
      "processor  : x86_64\n",
      "CPU cores  : 8\n",
      "interpreter: 64bit\n",
      "Git hash   : 4c1d4ac8e448a7cc4e47a21820afc56622346ea2\n",
      "Git branch : master\n",
      "In [2] used 0.7969 MiB RAM in 0.16s, peaked 0.00 MiB above current, total RAM usage 100.39 MiB\n"
     ]
    }
   ],
   "source": [
    "%load_ext watermark\n",
    "%watermark -i -v -m -p pandas,numpy,matplotlib -g -b"
   ]
  },
  {
   "cell_type": "code",
   "execution_count": 3,
   "metadata": {},
   "outputs": [
    {
     "data": {
      "text/html": [
       "<div>\n",
       "<style scoped>\n",
       "    .dataframe tbody tr th:only-of-type {\n",
       "        vertical-align: middle;\n",
       "    }\n",
       "\n",
       "    .dataframe tbody tr th {\n",
       "        vertical-align: top;\n",
       "    }\n",
       "\n",
       "    .dataframe thead th {\n",
       "        text-align: right;\n",
       "    }\n",
       "</style>\n",
       "<table border=\"1\" class=\"dataframe\">\n",
       "  <thead>\n",
       "    <tr style=\"text-align: right;\">\n",
       "      <th></th>\n",
       "      <th>int64</th>\n",
       "      <th>int32</th>\n",
       "      <th>int16</th>\n",
       "      <th>int8</th>\n",
       "      <th>uint8</th>\n",
       "      <th>float128</th>\n",
       "      <th>float64</th>\n",
       "      <th>float32</th>\n",
       "      <th>float16</th>\n",
       "    </tr>\n",
       "  </thead>\n",
       "  <tbody>\n",
       "    <tr>\n",
       "      <th>0</th>\n",
       "      <td>0</td>\n",
       "      <td>0</td>\n",
       "      <td>0</td>\n",
       "      <td>0</td>\n",
       "      <td>0</td>\n",
       "      <td>-1.580440</td>\n",
       "      <td>-0.090706</td>\n",
       "      <td>-0.050156</td>\n",
       "      <td>-0.040985</td>\n",
       "    </tr>\n",
       "    <tr>\n",
       "      <th>1</th>\n",
       "      <td>0</td>\n",
       "      <td>0</td>\n",
       "      <td>0</td>\n",
       "      <td>0</td>\n",
       "      <td>0</td>\n",
       "      <td>0.744341</td>\n",
       "      <td>-2.281576</td>\n",
       "      <td>-0.639802</td>\n",
       "      <td>0.694824</td>\n",
       "    </tr>\n",
       "    <tr>\n",
       "      <th>2</th>\n",
       "      <td>0</td>\n",
       "      <td>0</td>\n",
       "      <td>0</td>\n",
       "      <td>0</td>\n",
       "      <td>255</td>\n",
       "      <td>0.910785</td>\n",
       "      <td>0.869701</td>\n",
       "      <td>-1.025153</td>\n",
       "      <td>1.440430</td>\n",
       "    </tr>\n",
       "    <tr>\n",
       "      <th>3</th>\n",
       "      <td>0</td>\n",
       "      <td>0</td>\n",
       "      <td>0</td>\n",
       "      <td>-1</td>\n",
       "      <td>0</td>\n",
       "      <td>-0.715027</td>\n",
       "      <td>0.144067</td>\n",
       "      <td>-1.574106</td>\n",
       "      <td>1.317383</td>\n",
       "    </tr>\n",
       "    <tr>\n",
       "      <th>4</th>\n",
       "      <td>0</td>\n",
       "      <td>0</td>\n",
       "      <td>-1</td>\n",
       "      <td>0</td>\n",
       "      <td>0</td>\n",
       "      <td>-1.616509</td>\n",
       "      <td>0.942782</td>\n",
       "      <td>-0.335202</td>\n",
       "      <td>-0.783691</td>\n",
       "    </tr>\n",
       "  </tbody>\n",
       "</table>\n",
       "</div>"
      ],
      "text/plain": [
       "   int64  int32  int16  int8  uint8  float128   float64   float32   float16\n",
       "0      0      0      0     0      0 -1.580440 -0.090706 -0.050156 -0.040985\n",
       "1      0      0      0     0      0  0.744341 -2.281576 -0.639802  0.694824\n",
       "2      0      0      0     0    255  0.910785  0.869701 -1.025153  1.440430\n",
       "3      0      0      0    -1      0 -0.715027  0.144067 -1.574106  1.317383\n",
       "4      0      0     -1     0      0 -1.616509  0.942782 -0.335202 -0.783691"
      ]
     },
     "execution_count": 3,
     "metadata": {},
     "output_type": "execute_result"
    },
    {
     "name": "stdout",
     "output_type": "stream",
     "text": [
      "In [3] used 878.6016 MiB RAM in 7.93s, peaked 0.00 MiB above current, total RAM usage 979.00 MiB\n"
     ]
    }
   ],
   "source": [
    "NROWS = 10_000_000\n",
    "NBR_LOOPS = 100\n",
    "MATH_FN = 'mean'\n",
    "\n",
    "dtypes = ['int64', 'int32', 'int16', 'int8', 'uint8', 'float128', 'float64', 'float32', 'float16']\n",
    "cols = {}\n",
    "for dtyp in dtypes:\n",
    "    # makes random data using normal distribution, then cast\n",
    "    # to various dtypes (which will involve rounding)\n",
    "    arr = np.random.normal(size=NROWS).astype(dtyp)\n",
    "    cols[dtyp] = arr\n",
    "df_data = pd.DataFrame(cols)\n",
    "df_data.head(5)"
   ]
  },
  {
   "cell_type": "code",
   "execution_count": 4,
   "metadata": {},
   "outputs": [
    {
     "name": "stdout",
     "output_type": "stream",
     "text": [
      "<class 'pandas.core.frame.DataFrame'>\n",
      "RangeIndex: 10000000 entries, 0 to 9999999\n",
      "Data columns (total 9 columns):\n",
      " #   Column    Dtype   \n",
      "---  ------    -----   \n",
      " 0   int64     int64   \n",
      " 1   int32     int32   \n",
      " 2   int16     int16   \n",
      " 3   int8      int8    \n",
      " 4   uint8     uint8   \n",
      " 5   float128  float128\n",
      " 6   float64   float64 \n",
      " 7   float32   float32 \n",
      " 8   float16   float16 \n",
      "dtypes: float128(1), float16(1), float32(1), float64(1), int16(1), int32(1), int64(1), int8(1), uint8(1)\n",
      "memory usage: 438.7 MB\n",
      "In [4] used 0.1367 MiB RAM in 0.12s, peaked 0.00 MiB above current, total RAM usage 979.13 MiB\n"
     ]
    }
   ],
   "source": [
    "df_data.info()"
   ]
  },
  {
   "cell_type": "code",
   "execution_count": 5,
   "metadata": {},
   "outputs": [
    {
     "name": "stdout",
     "output_type": "stream",
     "text": [
      "Working on int64\n",
      "Working on int32\n",
      "Working on int16\n",
      "Working on int8\n"
     ]
    },
    {
     "ename": "KeyboardInterrupt",
     "evalue": "",
     "output_type": "error",
     "traceback": [
      "\u001b[0;31m---------------------------------------------------------------------------\u001b[0m",
      "\u001b[0;31mKeyboardInterrupt\u001b[0m                         Traceback (most recent call last)",
      "\u001b[0;32m<ipython-input-5-7fe002470594>\u001b[0m in \u001b[0;36m<module>\u001b[0;34m\u001b[0m\n\u001b[1;32m     13\u001b[0m             \u001b[0mt1\u001b[0m \u001b[0;34m=\u001b[0m \u001b[0mtime\u001b[0m\u001b[0;34m.\u001b[0m\u001b[0mtime\u001b[0m\u001b[0;34m(\u001b[0m\u001b[0;34m)\u001b[0m\u001b[0;34m\u001b[0m\u001b[0;34m\u001b[0m\u001b[0m\n\u001b[1;32m     14\u001b[0m             \u001b[0;31m#arr.mean()\u001b[0m\u001b[0;34m\u001b[0m\u001b[0;34m\u001b[0m\u001b[0;34m\u001b[0m\u001b[0m\n\u001b[0;32m---> 15\u001b[0;31m             \u001b[0mfn\u001b[0m\u001b[0;34m(\u001b[0m\u001b[0;34m)\u001b[0m\u001b[0;34m\u001b[0m\u001b[0;34m\u001b[0m\u001b[0m\n\u001b[0m\u001b[1;32m     16\u001b[0m             \u001b[0;31m#timings[n] = time.time() - t1\u001b[0m\u001b[0;34m\u001b[0m\u001b[0;34m\u001b[0m\u001b[0;34m\u001b[0m\u001b[0m\n\u001b[1;32m     17\u001b[0m             \u001b[0mdelta\u001b[0m \u001b[0;34m=\u001b[0m \u001b[0mtime\u001b[0m\u001b[0;34m.\u001b[0m\u001b[0mtime\u001b[0m\u001b[0;34m(\u001b[0m\u001b[0;34m)\u001b[0m \u001b[0;34m-\u001b[0m \u001b[0mt1\u001b[0m\u001b[0;34m\u001b[0m\u001b[0;34m\u001b[0m\u001b[0m\n",
      "\u001b[0;32m~/miniconda3/envs/dtype_pandas_numpy_speed_test/lib/python3.8/site-packages/numpy/core/_methods.py\u001b[0m in \u001b[0;36m_mean\u001b[0;34m(a, axis, dtype, out, keepdims)\u001b[0m\n\u001b[1;32m    149\u001b[0m             \u001b[0mis_float16_result\u001b[0m \u001b[0;34m=\u001b[0m \u001b[0;32mTrue\u001b[0m\u001b[0;34m\u001b[0m\u001b[0;34m\u001b[0m\u001b[0m\n\u001b[1;32m    150\u001b[0m \u001b[0;34m\u001b[0m\u001b[0m\n\u001b[0;32m--> 151\u001b[0;31m     \u001b[0mret\u001b[0m \u001b[0;34m=\u001b[0m \u001b[0mumr_sum\u001b[0m\u001b[0;34m(\u001b[0m\u001b[0marr\u001b[0m\u001b[0;34m,\u001b[0m \u001b[0maxis\u001b[0m\u001b[0;34m,\u001b[0m \u001b[0mdtype\u001b[0m\u001b[0;34m,\u001b[0m \u001b[0mout\u001b[0m\u001b[0;34m,\u001b[0m \u001b[0mkeepdims\u001b[0m\u001b[0;34m)\u001b[0m\u001b[0;34m\u001b[0m\u001b[0;34m\u001b[0m\u001b[0m\n\u001b[0m\u001b[1;32m    152\u001b[0m     \u001b[0;32mif\u001b[0m \u001b[0misinstance\u001b[0m\u001b[0;34m(\u001b[0m\u001b[0mret\u001b[0m\u001b[0;34m,\u001b[0m \u001b[0mmu\u001b[0m\u001b[0;34m.\u001b[0m\u001b[0mndarray\u001b[0m\u001b[0;34m)\u001b[0m\u001b[0;34m:\u001b[0m\u001b[0;34m\u001b[0m\u001b[0;34m\u001b[0m\u001b[0m\n\u001b[1;32m    153\u001b[0m         ret = um.true_divide(\n",
      "\u001b[0;31mKeyboardInterrupt\u001b[0m: "
     ]
    },
    {
     "name": "stdout",
     "output_type": "stream",
     "text": [
      "In [5] used -437.5352 MiB RAM in 7.95s, peaked 437.54 MiB above current, total RAM usage 541.60 MiB\n"
     ]
    }
   ],
   "source": [
    "cols = []\n",
    "for col in df_data.columns:\n",
    "    print(f\"Working on {col}\")\n",
    "    arr = df_data[col]\n",
    "    for fn_idx in range(2):\n",
    "        if fn_idx == 0:\n",
    "            fn_name = \"ser\"\n",
    "            fn = getattr(arr, MATH_FN)\n",
    "        else:\n",
    "            fn = getattr(getattr(arr, 'values'), MATH_FN)\n",
    "            fn_name = \"ser.values\"\n",
    "        for n in range(NBR_LOOPS):\n",
    "            t1 = time.time()\n",
    "            #arr.mean()\n",
    "            fn()\n",
    "            #timings[n] = time.time() - t1\n",
    "            delta = time.time() - t1\n",
    "            cols.append({'fn_name': fn_name, 'col': col, 't': delta})\n",
    "df_results = pd.DataFrame(cols)\n",
    "df_results.sample(5)"
   ]
  },
  {
   "cell_type": "code",
   "execution_count": null,
   "metadata": {},
   "outputs": [],
   "source": [
    "df_results.info()"
   ]
  },
  {
   "cell_type": "code",
   "execution_count": null,
   "metadata": {},
   "outputs": [],
   "source": [
    "gpby = df_results.groupby(['fn_name', 'col'])\n",
    "means = gpby.mean().unstack(0)\n",
    "means = means.loc[dtypes]\n",
    "means"
   ]
  },
  {
   "cell_type": "code",
   "execution_count": null,
   "metadata": {},
   "outputs": [],
   "source": [
    "stds = gpby.std().unstack(0)\n",
    "stds = stds.loc[dtypes]\n",
    "se = stds / np.sqrt(NBR_LOOPS)\n",
    "se_95pc = se * 1.96\n",
    "se_95pc"
   ]
  },
  {
   "cell_type": "code",
   "execution_count": null,
   "metadata": {},
   "outputs": [],
   "source": [
    "fig, ax = plt.subplots(figsize=(8, 6))\n",
    "means.plot(kind='bar', ax=ax, yerr=se_95pc)\n",
    "\n",
    "title = f\"Fn '{MATH_FN}' execution time on {NROWS:,} rows of normal rnd over {NBR_LOOPS:,} loops\"\n",
    "title += f\"\\nBlack bars are the 95% Confidence Interval\"\n",
    "title += \"\\nUsing Pandas Series and Series.values\"\n",
    "ax.set_title(title);\n",
    "ax.set_ylabel('Seconds (smaller is better)');\n",
    "\n",
    "locs, labels=plt.yticks()\n",
    "y_ticks = []\n",
    "new_yticks=[f\"{d}s\" for d in locs]\n",
    "plt.yticks(locs,new_yticks); #, rotation=45, horizontalalignment='right')\n",
    "ax.set_xlabel('dtype');\n",
    "ax.get_figure().savefig('timings.png')\n",
    "plt.show()"
   ]
  },
  {
   "cell_type": "code",
   "execution_count": null,
   "metadata": {},
   "outputs": [],
   "source": []
  }
 ],
 "metadata": {
  "kernelspec": {
   "display_name": "Python 3",
   "language": "python",
   "name": "python3"
  },
  "language_info": {
   "codemirror_mode": {
    "name": "ipython",
    "version": 3
   },
   "file_extension": ".py",
   "mimetype": "text/x-python",
   "name": "python",
   "nbconvert_exporter": "python",
   "pygments_lexer": "ipython3",
   "version": "3.8.3"
  }
 },
 "nbformat": 4,
 "nbformat_minor": 4
}
